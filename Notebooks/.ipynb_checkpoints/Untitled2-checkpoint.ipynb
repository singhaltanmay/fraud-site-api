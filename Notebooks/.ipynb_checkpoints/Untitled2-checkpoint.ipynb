{
 "cells": [
  {
   "cell_type": "code",
   "execution_count": 1,
   "id": "7333bbae",
   "metadata": {},
   "outputs": [],
   "source": [
    "import pandas as pd\n",
    "import numpy as np\n",
    "import torch\n",
    "import torch.nn as nn"
   ]
  },
  {
   "cell_type": "code",
   "execution_count": 5,
   "id": "c585ec78",
   "metadata": {},
   "outputs": [],
   "source": [
    "url_df = pd.read_csv('E:/ML projects/ah shit here we go again/Data/Datasets/modifiedURLdf.csv', index_col=False)"
   ]
  },
  {
   "cell_type": "code",
   "execution_count": 6,
   "id": "432c328f",
   "metadata": {},
   "outputs": [
    {
     "data": {
      "text/html": [
       "<div>\n",
       "<style scoped>\n",
       "    .dataframe tbody tr th:only-of-type {\n",
       "        vertical-align: middle;\n",
       "    }\n",
       "\n",
       "    .dataframe tbody tr th {\n",
       "        vertical-align: top;\n",
       "    }\n",
       "\n",
       "    .dataframe thead th {\n",
       "        text-align: right;\n",
       "    }\n",
       "</style>\n",
       "<table border=\"1\" class=\"dataframe\">\n",
       "  <thead>\n",
       "    <tr style=\"text-align: right;\">\n",
       "      <th></th>\n",
       "      <th>URL</th>\n",
       "      <th>Label</th>\n",
       "      <th>TT</th>\n",
       "      <th>SU</th>\n",
       "      <th>FT</th>\n",
       "    </tr>\n",
       "  </thead>\n",
       "  <tbody>\n",
       "    <tr>\n",
       "      <th>0</th>\n",
       "      <td>nobell.it/70ffb52d079109dca5664cce6f317373782/...</td>\n",
       "      <td>bad</td>\n",
       "      <td>['nobell', 'it', '70ffb52d079109dca5664cce6f31...</td>\n",
       "      <td>['nobel', 'it', '70ffb52d079109dca5664cce6f317...</td>\n",
       "      <td>nobel it 70ffb52d079109dca5664cce6f317373782 l...</td>\n",
       "    </tr>\n",
       "    <tr>\n",
       "      <th>1</th>\n",
       "      <td>www.dghjdgf.com/paypal.co.uk/cycgi-bin/webscrc...</td>\n",
       "      <td>bad</td>\n",
       "      <td>['www', 'dghjdgf', 'com', 'paypal', 'co', 'uk'...</td>\n",
       "      <td>['www', 'dghjdgf', 'com', 'paypal', 'co', 'uk'...</td>\n",
       "      <td>www dghjdgf com paypal co uk cycgi bin webscrc...</td>\n",
       "    </tr>\n",
       "    <tr>\n",
       "      <th>2</th>\n",
       "      <td>serviciosbys.com/paypal.cgi.bin.get-into.herf....</td>\n",
       "      <td>bad</td>\n",
       "      <td>['serviciosbys', 'com', 'paypal', 'cgi', 'bin'...</td>\n",
       "      <td>['serviciosbi', 'com', 'paypal', 'cgi', 'bin',...</td>\n",
       "      <td>serviciosbi com paypal cgi bin get into herf s...</td>\n",
       "    </tr>\n",
       "    <tr>\n",
       "      <th>3</th>\n",
       "      <td>mail.printakid.com/www.online.americanexpress....</td>\n",
       "      <td>bad</td>\n",
       "      <td>['mail', 'printakid', 'com', 'www', 'online', ...</td>\n",
       "      <td>['mail', 'printakid', 'com', 'www', 'onlin', '...</td>\n",
       "      <td>mail printakid com www onlin americanexpress c...</td>\n",
       "    </tr>\n",
       "    <tr>\n",
       "      <th>4</th>\n",
       "      <td>thewhiskeydregs.com/wp-content/themes/widescre...</td>\n",
       "      <td>bad</td>\n",
       "      <td>['thewhiskeydregs', 'com', 'wp', 'content', 't...</td>\n",
       "      <td>['thewhiskeydreg', 'com', 'wp', 'content', 'th...</td>\n",
       "      <td>thewhiskeydreg com wp content theme widescreen...</td>\n",
       "    </tr>\n",
       "  </tbody>\n",
       "</table>\n",
       "</div>"
      ],
      "text/plain": [
       "                                                 URL Label  \\\n",
       "0  nobell.it/70ffb52d079109dca5664cce6f317373782/...   bad   \n",
       "1  www.dghjdgf.com/paypal.co.uk/cycgi-bin/webscrc...   bad   \n",
       "2  serviciosbys.com/paypal.cgi.bin.get-into.herf....   bad   \n",
       "3  mail.printakid.com/www.online.americanexpress....   bad   \n",
       "4  thewhiskeydregs.com/wp-content/themes/widescre...   bad   \n",
       "\n",
       "                                                  TT  \\\n",
       "0  ['nobell', 'it', '70ffb52d079109dca5664cce6f31...   \n",
       "1  ['www', 'dghjdgf', 'com', 'paypal', 'co', 'uk'...   \n",
       "2  ['serviciosbys', 'com', 'paypal', 'cgi', 'bin'...   \n",
       "3  ['mail', 'printakid', 'com', 'www', 'online', ...   \n",
       "4  ['thewhiskeydregs', 'com', 'wp', 'content', 't...   \n",
       "\n",
       "                                                  SU  \\\n",
       "0  ['nobel', 'it', '70ffb52d079109dca5664cce6f317...   \n",
       "1  ['www', 'dghjdgf', 'com', 'paypal', 'co', 'uk'...   \n",
       "2  ['serviciosbi', 'com', 'paypal', 'cgi', 'bin',...   \n",
       "3  ['mail', 'printakid', 'com', 'www', 'onlin', '...   \n",
       "4  ['thewhiskeydreg', 'com', 'wp', 'content', 'th...   \n",
       "\n",
       "                                                  FT  \n",
       "0  nobel it 70ffb52d079109dca5664cce6f317373782 l...  \n",
       "1  www dghjdgf com paypal co uk cycgi bin webscrc...  \n",
       "2  serviciosbi com paypal cgi bin get into herf s...  \n",
       "3  mail printakid com www onlin americanexpress c...  \n",
       "4  thewhiskeydreg com wp content theme widescreen...  "
      ]
     },
     "execution_count": 6,
     "metadata": {},
     "output_type": "execute_result"
    }
   ],
   "source": [
    "url_df.head()"
   ]
  },
  {
   "cell_type": "code",
   "execution_count": 7,
   "id": "6a728d7a",
   "metadata": {},
   "outputs": [],
   "source": [
    "urls = url_df.FT.astype('str').values"
   ]
  },
  {
   "cell_type": "code",
   "execution_count": 9,
   "id": "b2a586db",
   "metadata": {},
   "outputs": [],
   "source": [
    "import pickle\n",
    "with open('E:/ML projects/ah shit here we go again/Models/SklearnCV.vectorizer', 'rb') as handle:\n",
    "    cv = pickle.load(handle)"
   ]
  },
  {
   "cell_type": "code",
   "execution_count": 10,
   "id": "7ca95d20",
   "metadata": {},
   "outputs": [],
   "source": [
    "X = cv.transform(urls)"
   ]
  },
  {
   "cell_type": "code",
   "execution_count": 11,
   "id": "e9b1cc07",
   "metadata": {},
   "outputs": [
    {
     "data": {
      "text/plain": [
       "(549346, 468010)"
      ]
     },
     "execution_count": 11,
     "metadata": {},
     "output_type": "execute_result"
    }
   ],
   "source": [
    "X.shape"
   ]
  },
  {
   "cell_type": "code",
   "execution_count": 12,
   "id": "6f399a1c",
   "metadata": {},
   "outputs": [
    {
     "data": {
      "text/plain": [
       "scipy.sparse._csr.csr_matrix"
      ]
     },
     "execution_count": 12,
     "metadata": {},
     "output_type": "execute_result"
    }
   ],
   "source": [
    "type(X)"
   ]
  },
  {
   "cell_type": "code",
   "execution_count": 20,
   "id": "20d7d611",
   "metadata": {},
   "outputs": [],
   "source": [
    "class CustomDataset():\n",
    "    def __init__(self, X, Y):\n",
    "        self.x = X\n",
    "        self.y = Y\n",
    "    def __len__(self):\n",
    "        return self.x.shape[0]\n",
    "    \n",
    "    def __getitem__(self, idx):\n",
    "        url = self.x[idx,...]\n",
    "        y = self.y[idx]\n",
    "        url = url.toarray()\n",
    "        return {\n",
    "            'url' : torch.tensor(url).float(),\n",
    "            'target':torch.tensor(y).float()\n",
    "        }"
   ]
  },
  {
   "cell_type": "code",
   "execution_count": 15,
   "id": "eb2a83e8",
   "metadata": {},
   "outputs": [
    {
     "name": "stdout",
     "output_type": "stream",
     "text": [
      "1s : 28.474222074976424% \n",
      "0s : 71.52577792502358% \n",
      "count : 549346\n"
     ]
    }
   ],
   "source": [
    "Y = []\n",
    "for i in url_df.Label:\n",
    "  if i=='bad':\n",
    "    Y.append(1)\n",
    "  else:\n",
    "    Y.append(0)\n",
    "Y=np.array(Y)\n",
    "\n",
    "def describe(Y):\n",
    "    num1=0\n",
    "    num0=0\n",
    "    count=0\n",
    "    for i in Y:\n",
    "        if i==1:\n",
    "            num1+=1\n",
    "            count+=1\n",
    "        else:\n",
    "            num0+=1\n",
    "            count+=1\n",
    "    print(f\"1s : {num1/count * 100}% \\n0s : {num0/count * 100}% \\ncount : {count}\")\n",
    "    \n",
    "describe(Y)"
   ]
  },
  {
   "cell_type": "code",
   "execution_count": 17,
   "id": "b3db4791",
   "metadata": {},
   "outputs": [],
   "source": [
    "from sklearn.model_selection import train_test_split\n",
    "Xtrain, Xtest, Ytrain, Ytest = train_test_split(X, Y)"
   ]
  },
  {
   "cell_type": "code",
   "execution_count": 21,
   "id": "8368bf03",
   "metadata": {},
   "outputs": [],
   "source": [
    "train_dataset = CustomDataset(Xtrain, Ytrain)\n",
    "test_dataset = CustomDataset(Xtest, Ytest)"
   ]
  },
  {
   "cell_type": "code",
   "execution_count": 22,
   "id": "2585d409",
   "metadata": {},
   "outputs": [
    {
     "data": {
      "text/plain": [
       "torch.Size([1, 468010])"
      ]
     },
     "execution_count": 22,
     "metadata": {},
     "output_type": "execute_result"
    }
   ],
   "source": [
    "train_dataset[0]['url'].shape"
   ]
  },
  {
   "cell_type": "code",
   "execution_count": 23,
   "id": "b8387bb7",
   "metadata": {},
   "outputs": [],
   "source": [
    "train_loader = torch.utils.data.DataLoader(train_dataset, batch_size=64)\n",
    "test_loader = torch.utils.data.DataLoader(test_dataset, batch_size=64)"
   ]
  },
  {
   "cell_type": "code",
   "execution_count": null,
   "id": "196c3bc7",
   "metadata": {},
   "outputs": [],
   "source": [
    "class Logistic(nn.Module):\n",
    "    def __init__(self):\n",
    "        super(Logistic, self).__init__()\n",
    "        "
   ]
  }
 ],
 "metadata": {
  "kernelspec": {
   "display_name": "Python 3 (ipykernel)",
   "language": "python",
   "name": "python3"
  },
  "language_info": {
   "codemirror_mode": {
    "name": "ipython",
    "version": 3
   },
   "file_extension": ".py",
   "mimetype": "text/x-python",
   "name": "python",
   "nbconvert_exporter": "python",
   "pygments_lexer": "ipython3",
   "version": "3.10.0"
  }
 },
 "nbformat": 4,
 "nbformat_minor": 5
}
